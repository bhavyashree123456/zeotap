{
 "cells": [
  {
   "cell_type": "code",
   "execution_count": 1,
   "id": "ff8f41a1",
   "metadata": {},
   "outputs": [],
   "source": [
    "import pandas as pd\n",
    "from sklearn.metrics.pairwise import cosine_similarity\n",
    "from sklearn.preprocessing import StandardScaler"
   ]
  },
  {
   "cell_type": "code",
   "execution_count": 2,
   "id": "0f4f02ae",
   "metadata": {},
   "outputs": [],
   "source": [
    "# Load datasets\n",
    "customers = pd.read_csv('Customers.csv')\n",
    "products = pd.read_csv('Products.csv')\n",
    "transactions = pd.read_csv('Transactions.csv')\n"
   ]
  },
  {
   "cell_type": "code",
   "execution_count": 3,
   "id": "56e63a50",
   "metadata": {},
   "outputs": [],
   "source": [
    "# Merge datasets for comprehensive analysis\n",
    "data = transactions.merge(customers, on=\"CustomerID\").merge(products, on=\"ProductID\")"
   ]
  },
  {
   "cell_type": "code",
   "execution_count": 4,
   "id": "d7e3c870",
   "metadata": {},
   "outputs": [],
   "source": [
    "# Feature Engineering\n",
    "# Aggregate customer-level data\n",
    "customer_features = data.groupby('CustomerID').agg({\n",
    "    'TotalValue': 'sum',  # Total spending\n",
    "    'TransactionID': 'count',  # Number of transactions\n",
    "    'Region': lambda x: x.mode()[0]  # Most frequent region\n",
    "}).reset_index()"
   ]
  },
  {
   "cell_type": "code",
   "execution_count": 5,
   "id": "c3aa0a81",
   "metadata": {},
   "outputs": [],
   "source": [
    "# One-hot encode categorical features (Region)\n",
    "customer_features = pd.get_dummies(customer_features, columns=['Region'], drop_first=True)"
   ]
  },
  {
   "cell_type": "code",
   "execution_count": 6,
   "id": "20bd5b2f",
   "metadata": {},
   "outputs": [],
   "source": [
    "# Normalize numeric features\n",
    "scaler = StandardScaler()\n",
    "scaled_features = scaler.fit_transform(customer_features.iloc[:, 1:])"
   ]
  },
  {
   "cell_type": "code",
   "execution_count": 7,
   "id": "bd8aa0b1",
   "metadata": {},
   "outputs": [],
   "source": [
    "# Calculate similarity using cosine similarity\n",
    "similarity_matrix = cosine_similarity(scaled_features)\n",
    "\n",
    "# Generate lookalike recommendations for the first 20 customers\n",
    "customer_ids = customer_features['CustomerID']\n",
    "lookalike_results = {}\n",
    "for idx, customer in enumerate(customer_ids[:20]):\n",
    "    # Get similarity scores for the current customer\n",
    "    scores = list(enumerate(similarity_matrix[idx]))\n",
    "    # Sort scores by similarity, excluding the customer itself\n",
    "    sorted_scores = sorted(scores, key=lambda x: x[1], reverse=True)[1:4]\n",
    "    # Map customer ID to the top 3 similar customers\n",
    "    lookalike_results[customer] = [(customer_ids[i], score) for i, score in sorted_scores]"
   ]
  },
  {
   "cell_type": "code",
   "execution_count": 8,
   "id": "59a30155",
   "metadata": {},
   "outputs": [
    {
     "name": "stdout",
     "output_type": "stream",
     "text": [
      "Lookalike recommendations saved to 'bhavya_shree_Lookalike.csv'.\n"
     ]
    }
   ],
   "source": [
    "# Save results to a CSV file\n",
    "lookalike_df = pd.DataFrame.from_dict(lookalike_results, orient='index', columns=['Lookalike1', 'Lookalike2', 'Lookalike3'])\n",
    "lookalike_df.index.name = 'CustomerID'\n",
    "lookalike_df.to_csv('bhavya_shree_Lookalike.csv')\n",
    "\n",
    "print(\"Lookalike recommendations saved to 'bhavya_shree_Lookalike.csv'.\")"
   ]
  },
  {
   "cell_type": "code",
   "execution_count": 9,
   "id": "9e9aa7c6",
   "metadata": {},
   "outputs": [
    {
     "name": "stdout",
     "output_type": "stream",
     "text": [
      "   CustomerID                     Lookalike1                     Lookalike2  \\\n",
      "0       C0001  ('C0137', 0.9999760744554356)  ('C0152', 0.9999512581210065)   \n",
      "1       C0002  ('C0142', 0.9923237804484972)  ('C0177', 0.9744812852490708)   \n",
      "2       C0003  ('C0133', 0.9989191532022407)  ('C0052', 0.9977152611110504)   \n",
      "3       C0004  ('C0113', 0.9932742267970033)  ('C0102', 0.9893132131115234)   \n",
      "4       C0005  ('C0159', 0.9999338335836799)  ('C0186', 0.9969706156703498)   \n",
      "5       C0006  ('C0158', 0.9885088252201482)   ('C0168', 0.975341785210415)   \n",
      "6       C0007  ('C0159', 0.9861479609355337)  ('C0005', 0.9841746631569637)   \n",
      "7       C0008  ('C0109', 0.9816332981630587)  ('C0139', 0.9646953234916094)   \n",
      "8       C0009  ('C0062', 0.9895764049212195)  ('C0198', 0.9876658949337963)   \n",
      "9       C0010  ('C0199', 0.9981856783018741)  ('C0121', 0.9883480514072666)   \n",
      "10      C0011  ('C0107', 0.9994455160430945)  ('C0048', 0.9992878943750295)   \n",
      "11      C0012   ('C0155', 0.999473779145566)  ('C0108', 0.9959790800136796)   \n",
      "12      C0013  ('C0087', 0.9946217971391005)   ('C0155', 0.992108844435128)   \n",
      "13      C0014  ('C0060', 0.9994393425294635)  ('C0198', 0.9919276240991801)   \n",
      "14      C0015  ('C0144', 0.9996534189089207)  ('C0020', 0.9924177046874882)   \n",
      "15      C0016  ('C0183', 0.9999790234633884)  ('C0117', 0.9752484400007819)   \n",
      "16      C0017  ('C0124', 0.9815691544809675)  ('C0075', 0.9774301407276904)   \n",
      "17      C0018   ('C0016', 0.973180808614312)  ('C0183', 0.9716703959371471)   \n",
      "18      C0019  ('C0172', 0.9999923481635247)  ('C0111', 0.9747195566442858)   \n",
      "19      C0020  ('C0058', 0.9967965585604205)  ('C0033', 0.9931058923168785)   \n",
      "\n",
      "                       Lookalike3  \n",
      "0   ('C0107', 0.9963983604476289)  \n",
      "1   ('C0043', 0.9695636004243717)  \n",
      "2   ('C0192', 0.9839543569048451)  \n",
      "3    ('C0012', 0.985967424986034)  \n",
      "4   ('C0007', 0.9841746631569637)  \n",
      "5   ('C0187', 0.9629102888621879)  \n",
      "6   ('C0115', 0.9784759253390762)  \n",
      "7    ('C0098', 0.946195830078985)  \n",
      "8   ('C0121', 0.9848028250436693)  \n",
      "9   ('C0166', 0.9864341311146431)  \n",
      "10  ('C0152', 0.9941383756823008)  \n",
      "11  ('C0013', 0.9875198271430498)  \n",
      "12  ('C0104', 0.9881524684086922)  \n",
      "13  ('C0063', 0.9848148422175158)  \n",
      "14  ('C0058', 0.9899573557729443)  \n",
      "15  ('C0154', 0.9744808792151479)  \n",
      "16   ('C0051', 0.960507421971875)  \n",
      "17  ('C0079', 0.9679267727938429)  \n",
      "18  ('C0103', 0.9735329101392489)  \n",
      "19  ('C0015', 0.9924177046874882)  \n"
     ]
    }
   ],
   "source": [
    "looklike=pd.read_csv(\"bhavya_shree_Lookalike.csv\")\n",
    "print(looklike)"
   ]
  },
  {
   "cell_type": "code",
   "execution_count": null,
   "id": "5579eb0c",
   "metadata": {},
   "outputs": [],
   "source": []
  },
  {
   "cell_type": "code",
   "execution_count": null,
   "id": "86cf8de2",
   "metadata": {},
   "outputs": [],
   "source": []
  }
 ],
 "metadata": {
  "kernelspec": {
   "display_name": "Python 3 (ipykernel)",
   "language": "python",
   "name": "python3"
  },
  "language_info": {
   "codemirror_mode": {
    "name": "ipython",
    "version": 3
   },
   "file_extension": ".py",
   "mimetype": "text/x-python",
   "name": "python",
   "nbconvert_exporter": "python",
   "pygments_lexer": "ipython3",
   "version": "3.9.13"
  }
 },
 "nbformat": 4,
 "nbformat_minor": 5
}
